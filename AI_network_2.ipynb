{
  "nbformat": 4,
  "nbformat_minor": 5,
  "metadata": {
    "kernelspec": {
      "display_name": "Python 3",
      "language": "python",
      "name": "python3"
    },
    "language_info": {
      "codemirror_mode": {
        "name": "ipython",
        "version": 3
      },
      "file_extension": ".py",
      "mimetype": "text/x-python",
      "name": "python",
      "nbconvert_exporter": "python",
      "pygments_lexer": "ipython3",
      "version": "3.8.5"
    },
    "colab": {
      "name": "AI network.ipynb",
      "provenance": []
    }
  },
  "cells": [
    {
      "cell_type": "markdown",
      "metadata": {
        "id": "6014da14-9948-49ac-a5a3-b0aef4395375"
      },
      "source": [
        "spreading:\n",
        "simulate ,using the \"NDlib\" python library ,the diffusion models discussed during the course (SI,SIS,SIR,Threshol model) both on the crawled data on synthetic graphs (ER and VA).\n",
        "Analyse the simulation  results varying boath model parameters  and initial conditions().\n",
        "----------------------\n"
      ],
      "id": "6014da14-9948-49ac-a5a3-b0aef4395375"
    },
    {
      "cell_type": "code",
      "metadata": {
        "id": "HAK5GGRwiJ2n"
      },
      "source": [
        "import matplotlib\n",
        "matplotlib.use('Agg') "
      ],
      "id": "HAK5GGRwiJ2n",
      "execution_count": 1,
      "outputs": []
    },
    {
      "cell_type": "code",
      "metadata": {
        "id": "wGQQkjvjdRm5"
      },
      "source": [
        "import warnings \n",
        "warnings.filterwarnings('ignore')"
      ],
      "id": "wGQQkjvjdRm5",
      "execution_count": 2,
      "outputs": []
    },
    {
      "cell_type": "code",
      "metadata": {
        "colab": {
          "base_uri": "https://localhost:8080/"
        },
        "id": "qCn5kghl7ZjK",
        "outputId": "de486059-5a66-4894-876f-9cb5c509cac2"
      },
      "source": [
        "!pip3 install ndlib \n"
      ],
      "id": "qCn5kghl7ZjK",
      "execution_count": 3,
      "outputs": [
        {
          "output_type": "stream",
          "text": [
            "Requirement already satisfied: ndlib in /usr/local/lib/python3.7/dist-packages (5.1.0)\n",
            "Requirement already satisfied: numpy in /usr/local/lib/python3.7/dist-packages (from ndlib) (1.19.5)\n",
            "Requirement already satisfied: bokeh in /usr/local/lib/python3.7/dist-packages (from ndlib) (2.3.2)\n",
            "Requirement already satisfied: scipy in /usr/local/lib/python3.7/dist-packages (from ndlib) (1.4.1)\n",
            "Requirement already satisfied: dynetx in /usr/local/lib/python3.7/dist-packages (from ndlib) (0.2.6)\n",
            "Requirement already satisfied: python-igraph in /usr/local/lib/python3.7/dist-packages (from ndlib) (0.9.6)\n",
            "Requirement already satisfied: netdispatch in /usr/local/lib/python3.7/dist-packages (from ndlib) (0.0.7)\n",
            "Requirement already satisfied: future in /usr/local/lib/python3.7/dist-packages (from ndlib) (0.16.0)\n",
            "Requirement already satisfied: networkx in /usr/local/lib/python3.7/dist-packages (from ndlib) (2.5.1)\n",
            "Requirement already satisfied: tornado>=5.1 in /usr/local/lib/python3.7/dist-packages (from bokeh->ndlib) (5.1.1)\n",
            "Requirement already satisfied: Jinja2>=2.9 in /usr/local/lib/python3.7/dist-packages (from bokeh->ndlib) (2.11.3)\n",
            "Requirement already satisfied: python-dateutil>=2.1 in /usr/local/lib/python3.7/dist-packages (from bokeh->ndlib) (2.8.1)\n",
            "Requirement already satisfied: pillow>=7.1.0 in /usr/local/lib/python3.7/dist-packages (from bokeh->ndlib) (7.1.2)\n",
            "Requirement already satisfied: typing-extensions>=3.7.4 in /usr/local/lib/python3.7/dist-packages (from bokeh->ndlib) (3.7.4.3)\n",
            "Requirement already satisfied: PyYAML>=3.10 in /usr/local/lib/python3.7/dist-packages (from bokeh->ndlib) (3.13)\n",
            "Requirement already satisfied: packaging>=16.8 in /usr/local/lib/python3.7/dist-packages (from bokeh->ndlib) (20.9)\n",
            "Requirement already satisfied: tqdm in /usr/local/lib/python3.7/dist-packages (from dynetx->ndlib) (4.41.1)\n",
            "Requirement already satisfied: texttable>=1.6.2 in /usr/local/lib/python3.7/dist-packages (from python-igraph->ndlib) (1.6.3)\n",
            "Requirement already satisfied: decorator<5,>=4.3 in /usr/local/lib/python3.7/dist-packages (from networkx->ndlib) (4.4.2)\n",
            "Requirement already satisfied: MarkupSafe>=0.23 in /usr/local/lib/python3.7/dist-packages (from Jinja2>=2.9->bokeh->ndlib) (2.0.1)\n",
            "Requirement already satisfied: six>=1.5 in /usr/local/lib/python3.7/dist-packages (from python-dateutil>=2.1->bokeh->ndlib) (1.15.0)\n",
            "Requirement already satisfied: pyparsing>=2.0.2 in /usr/local/lib/python3.7/dist-packages (from packaging>=16.8->bokeh->ndlib) (2.4.7)\n"
          ],
          "name": "stdout"
        }
      ]
    },
    {
      "cell_type": "code",
      "metadata": {
        "id": "fcf7e91c-d75d-4560-a703-515b656ce67f"
      },
      "source": [
        "import networkx as nx"
      ],
      "id": "fcf7e91c-d75d-4560-a703-515b656ce67f",
      "execution_count": 4,
      "outputs": []
    },
    {
      "cell_type": "code",
      "metadata": {
        "id": "3d26aff7-d808-4fab-8495-52dec6a50a98"
      },
      "source": [
        "from networkx import bipartite"
      ],
      "id": "3d26aff7-d808-4fab-8495-52dec6a50a98",
      "execution_count": 5,
      "outputs": []
    },
    {
      "cell_type": "code",
      "metadata": {
        "id": "ce806ee6-d942-4a36-9bc8-42623197dbed"
      },
      "source": [
        "import dynetx as dn"
      ],
      "id": "ce806ee6-d942-4a36-9bc8-42623197dbed",
      "execution_count": 6,
      "outputs": []
    },
    {
      "cell_type": "code",
      "metadata": {
        "id": "7d554ef2-b86d-48cb-9c68-2adc96b9c842"
      },
      "source": [
        "from bokeh.io import output_notebook, show"
      ],
      "id": "7d554ef2-b86d-48cb-9c68-2adc96b9c842",
      "execution_count": 7,
      "outputs": []
    },
    {
      "cell_type": "code",
      "metadata": {
        "id": "a722e57f-e593-44d0-9641-5f800ac5b34e"
      },
      "source": [
        "import ndlib.models.ModelConfig as mc"
      ],
      "id": "a722e57f-e593-44d0-9641-5f800ac5b34e",
      "execution_count": 8,
      "outputs": []
    },
    {
      "cell_type": "code",
      "metadata": {
        "id": "f31c1d3c-e075-4aad-8476-675e1c33521b"
      },
      "source": [
        "import ndlib.models.epidemics as ep"
      ],
      "id": "f31c1d3c-e075-4aad-8476-675e1c33521b",
      "execution_count": 9,
      "outputs": []
    },
    {
      "cell_type": "code",
      "metadata": {
        "id": "8eb223c0-6807-4e17-8bed-f19687e874be"
      },
      "source": [
        "from ndlib.viz.bokeh.DiffusionTrend import DiffusionTrend"
      ],
      "id": "8eb223c0-6807-4e17-8bed-f19687e874be",
      "execution_count": 10,
      "outputs": []
    },
    {
      "cell_type": "code",
      "metadata": {
        "id": "e8a83130-85be-4dfe-b8fd-815172072865"
      },
      "source": [
        "from ndlib.viz.bokeh.DiffusionPrevalence import DiffusionPrevalence"
      ],
      "id": "e8a83130-85be-4dfe-b8fd-815172072865",
      "execution_count": 11,
      "outputs": []
    },
    {
      "cell_type": "code",
      "metadata": {
        "id": "ef809e3e-cf53-47a9-a782-be275d8300dd"
      },
      "source": [
        "from ndlib.viz.bokeh.MultiPlot import MultiPlot"
      ],
      "id": "ef809e3e-cf53-47a9-a782-be275d8300dd",
      "execution_count": 12,
      "outputs": []
    },
    {
      "cell_type": "code",
      "metadata": {
        "colab": {
          "base_uri": "https://localhost:8080/"
        },
        "id": "07b61f1a-142c-42cd-b3a0-b67d9da35ff4",
        "outputId": "38483fe8-0c4b-4fd7-98be-696d2f600c09"
      },
      "source": [
        "from ndlib.viz.mpl.DiffusionTrend import DiffusionTrend"
      ],
      "id": "07b61f1a-142c-42cd-b3a0-b67d9da35ff4",
      "execution_count": 13,
      "outputs": [
        {
          "output_type": "stream",
          "text": [
            "no display found. Using non-interactive Agg backend\n"
          ],
          "name": "stdout"
        }
      ]
    },
    {
      "cell_type": "code",
      "metadata": {
        "colab": {
          "base_uri": "https://localhost:8080/"
        },
        "id": "d6d0860f-cd1f-4e60-9ebc-2f334b403f11",
        "outputId": "2810aca7-730d-4adb-e7f2-b9ba1c464796"
      },
      "source": [
        "from ndlib.viz.mpl.TrendComparison import DiffusionTrendComparison"
      ],
      "id": "d6d0860f-cd1f-4e60-9ebc-2f334b403f11",
      "execution_count": 14,
      "outputs": [
        {
          "output_type": "stream",
          "text": [
            "no display found. Using non-interactive Agg backend\n"
          ],
          "name": "stdout"
        }
      ]
    },
    {
      "cell_type": "code",
      "metadata": {
        "id": "5a07e282-d9b4-4daa-95e3-b2bb37ec3f64"
      },
      "source": [
        "from ndlib.utils import multi_runs"
      ],
      "id": "5a07e282-d9b4-4daa-95e3-b2bb37ec3f64",
      "execution_count": 15,
      "outputs": []
    },
    {
      "cell_type": "code",
      "metadata": {
        "id": "f3e4b8b1"
      },
      "source": [
        "import numpy as np"
      ],
      "id": "f3e4b8b1",
      "execution_count": 16,
      "outputs": []
    },
    {
      "cell_type": "code",
      "metadata": {
        "id": "nyZhFp18grMt"
      },
      "source": [
        "import matplotlib"
      ],
      "id": "nyZhFp18grMt",
      "execution_count": 17,
      "outputs": []
    },
    {
      "cell_type": "code",
      "metadata": {
        "id": "1319545f-e461-4191-bd25-65843f9b8a04"
      },
      "source": [
        "import matplotlib.pyplot as plt"
      ],
      "id": "1319545f-e461-4191-bd25-65843f9b8a04",
      "execution_count": 18,
      "outputs": []
    },
    {
      "cell_type": "code",
      "metadata": {
        "id": "3GRZT7jH7liV"
      },
      "source": [
        "from plotly.offline import init_notebook_mode"
      ],
      "id": "3GRZT7jH7liV",
      "execution_count": 19,
      "outputs": []
    },
    {
      "cell_type": "code",
      "metadata": {
        "id": "70ODiTpF7p7c"
      },
      "source": [
        "%matplotlib inline"
      ],
      "id": "70ODiTpF7p7c",
      "execution_count": 20,
      "outputs": []
    },
    {
      "cell_type": "code",
      "metadata": {
        "colab": {
          "base_uri": "https://localhost:8080/",
          "height": 17
        },
        "id": "FzPkOkHFgIEb",
        "outputId": "4792b418-28bf-4439-acbe-3e5d24bb459a"
      },
      "source": [
        "init_notebook_mode(connected=True)"
      ],
      "id": "FzPkOkHFgIEb",
      "execution_count": 21,
      "outputs": [
        {
          "output_type": "display_data",
          "data": {
            "text/html": [
              "        <script type=\"text/javascript\">\n",
              "        window.PlotlyConfig = {MathJaxConfig: 'local'};\n",
              "        if (window.MathJax) {MathJax.Hub.Config({SVG: {font: \"STIX-Web\"}});}\n",
              "        if (typeof require !== 'undefined') {\n",
              "        require.undef(\"plotly\");\n",
              "        requirejs.config({\n",
              "            paths: {\n",
              "                'plotly': ['https://cdn.plot.ly/plotly-latest.min']\n",
              "            }\n",
              "        });\n",
              "        require(['plotly'], function(Plotly) {\n",
              "            window._Plotly = Plotly;\n",
              "        });\n",
              "        }\n",
              "        </script>\n",
              "        "
            ]
          },
          "metadata": {
            "tags": []
          }
        }
      ]
    },
    {
      "cell_type": "markdown",
      "metadata": {
        "id": "e902ad89-194d-4b9b-95aa-529868b62190"
      },
      "source": [
        "---"
      ],
      "id": "e902ad89-194d-4b9b-95aa-529868b62190"
    },
    {
      "cell_type": "code",
      "metadata": {
        "id": "2db14461-1fc3-46a8-8f9f-7b1139b651db"
      },
      "source": [
        "#inja ma baraye rasm graph ma be sorate dasti megdar midim ."
      ],
      "id": "2db14461-1fc3-46a8-8f9f-7b1139b651db",
      "execution_count": 22,
      "outputs": []
    },
    {
      "cell_type": "markdown",
      "metadata": {
        "id": "e9e3fe19-a1a3-400b-a4fe-6406ee5eff19"
      },
      "source": [
        "## 1 -  Network Definition"
      ],
      "id": "e9e3fe19-a1a3-400b-a4fe-6406ee5eff19"
    },
    {
      "cell_type": "code",
      "metadata": {
        "id": "349be920-c0e3-4ea0-b762-cdc2e33c1195"
      },
      "source": [
        "g=nx.erdos_renyi_graph(11110,226.9941/11110)#Shift+tab kenare e 1000  tozihatesh miad =>1000 tedade node ke bayad int bashe , 0.1 ke darsadi az on edge (ehtemale ijade labe)"
      ],
      "id": "349be920-c0e3-4ea0-b762-cdc2e33c1195",
      "execution_count": 23,
      "outputs": []
    },
    {
      "cell_type": "code",
      "metadata": {
        "colab": {
          "base_uri": "https://localhost:8080/"
        },
        "id": "d77acd15-1364-4c97-8b41-171b431cb78d",
        "outputId": "8b990a78-4d21-45db-89f5-d45463cd9ecb"
      },
      "source": [
        "g.number_of_nodes()"
      ],
      "id": "d77acd15-1364-4c97-8b41-171b431cb78d",
      "execution_count": 24,
      "outputs": [
        {
          "output_type": "execute_result",
          "data": {
            "text/plain": [
              "11110"
            ]
          },
          "metadata": {
            "tags": []
          },
          "execution_count": 24
        }
      ]
    },
    {
      "cell_type": "code",
      "metadata": {
        "colab": {
          "base_uri": "https://localhost:8080/"
        },
        "id": "70a6d636-e22f-4f63-8dcd-c503439aff66",
        "outputId": "c68945dc-d6fc-4f62-f347-4ee23bb5cc8a"
      },
      "source": [
        "g.number_of_edges()"
      ],
      "id": "70a6d636-e22f-4f63-8dcd-c503439aff66",
      "execution_count": 25,
      "outputs": [
        {
          "output_type": "execute_result",
          "data": {
            "text/plain": [
              "1261529"
            ]
          },
          "metadata": {
            "tags": []
          },
          "execution_count": 25
        }
      ]
    },
    {
      "cell_type": "code",
      "metadata": {
        "colab": {
          "base_uri": "https://localhost:8080/"
        },
        "id": "61f4c005-7ef3-4c4d-8021-7e02526876ce",
        "outputId": "cc4a997a-54a5-4de6-e98a-054e0e86667d"
      },
      "source": [
        "print(nx.info(g))"
      ],
      "id": "61f4c005-7ef3-4c4d-8021-7e02526876ce",
      "execution_count": 26,
      "outputs": [
        {
          "output_type": "stream",
          "text": [
            "Name: \n",
            "Type: Graph\n",
            "Number of nodes: 11110\n",
            "Number of edges: 1261529\n",
            "Average degree: 227.0979\n"
          ],
          "name": "stdout"
        }
      ]
    },
    {
      "cell_type": "code",
      "metadata": {
        "id": "2859d134-9a7a-46d3-9e84-9233d627612a"
      },
      "source": [
        "#model haye sorate soal "
      ],
      "id": "2859d134-9a7a-46d3-9e84-9233d627612a",
      "execution_count": 27,
      "outputs": []
    },
    {
      "cell_type": "markdown",
      "metadata": {
        "id": "7e22c67d-f2d5-4939-a513-d3dc4084a655"
      },
      "source": [
        "## 2 - Model Selection"
      ],
      "id": "7e22c67d-f2d5-4939-a513-d3dc4084a655"
    },
    {
      "cell_type": "code",
      "metadata": {
        "id": "68290ada-c9f9-445a-a4e1-6b2dea4ee037"
      },
      "source": [
        "model_SIR=ep.SIRModel(g)"
      ],
      "id": "68290ada-c9f9-445a-a4e1-6b2dea4ee037",
      "execution_count": 28,
      "outputs": []
    },
    {
      "cell_type": "code",
      "metadata": {
        "id": "c483cec3-913d-4a42-a85f-347c5e05cfc0"
      },
      "source": [
        "model_SI=ep.SIModel(g)"
      ],
      "id": "c483cec3-913d-4a42-a85f-347c5e05cfc0",
      "execution_count": 29,
      "outputs": []
    },
    {
      "cell_type": "code",
      "metadata": {
        "id": "36c3e230-fb2d-4bbd-8b29-2d9c7c308396"
      },
      "source": [
        "model_SIS=ep.SISModel(g)"
      ],
      "id": "36c3e230-fb2d-4bbd-8b29-2d9c7c308396",
      "execution_count": 30,
      "outputs": []
    },
    {
      "cell_type": "code",
      "metadata": {
        "id": "52485bd1-3462-4edc-aae1-071c4986ffae"
      },
      "source": [
        "model_TSH=ep.ThresholdModel(g)"
      ],
      "id": "52485bd1-3462-4edc-aae1-071c4986ffae",
      "execution_count": 31,
      "outputs": []
    },
    {
      "cell_type": "markdown",
      "metadata": {
        "id": "f702d22f-d856-41d8-a555-78b4cae1e727"
      },
      "source": [
        "## 3 - Model Configuration"
      ],
      "id": "f702d22f-d856-41d8-a555-78b4cae1e727"
    },
    {
      "cell_type": "code",
      "metadata": {
        "id": "c240686b-2fb5-4538-a71f-bfcb7599ad65"
      },
      "source": [
        "cfg=mc.Configuration()"
      ],
      "id": "c240686b-2fb5-4538-a71f-bfcb7599ad65",
      "execution_count": 32,
      "outputs": []
    },
    {
      "cell_type": "code",
      "metadata": {
        "id": "5fb70847-14cf-4655-aa8a-06921da4d345"
      },
      "source": [
        "cfg.add_model_parameter('beta', 0.001)#beta gama lamda ,.... parametrhaye on model balaee hast ke magidersh defult e "
      ],
      "id": "5fb70847-14cf-4655-aa8a-06921da4d345",
      "execution_count": 33,
      "outputs": []
    },
    {
      "cell_type": "code",
      "metadata": {
        "id": "b92866d7-23aa-45a0-ad88-fc4d23c8d5eb"
      },
      "source": [
        "cfg.add_model_parameter('gamma', 0.01)"
      ],
      "id": "b92866d7-23aa-45a0-ad88-fc4d23c8d5eb",
      "execution_count": 34,
      "outputs": []
    },
    {
      "cell_type": "code",
      "metadata": {
        "id": "469417b8-521f-4d54-b422-9723751e7098"
      },
      "source": [
        "cfg.add_model_parameter('lambda', 0.01)"
      ],
      "id": "469417b8-521f-4d54-b422-9723751e7098",
      "execution_count": 35,
      "outputs": []
    },
    {
      "cell_type": "code",
      "metadata": {
        "id": "ed80da4f-699b-4945-aafa-c1c35da5796f"
      },
      "source": [
        "cfg.add_model_parameter(\"percentage_infected\", 0.01)"
      ],
      "id": "ed80da4f-699b-4945-aafa-c1c35da5796f",
      "execution_count": 36,
      "outputs": []
    },
    {
      "cell_type": "markdown",
      "metadata": {
        "id": "db372b02-1c55-4cc8-ba11-408783c76029"
      },
      "source": [
        "##  Setting node parameters"
      ],
      "id": "db372b02-1c55-4cc8-ba11-408783c76029"
    },
    {
      "cell_type": "code",
      "metadata": {
        "id": "a78867ec-af0d-412b-bb3c-cd137e3c9915"
      },
      "source": [
        "def tsh_fun():#tabe e ke miad treshold ro hesab mikone \n",
        "    threshold = 0.25\n",
        "    \n",
        "    for i in g.nodes():\n",
        "        cfg.add_node_configuration(\"threshold\", i, threshold)"
      ],
      "id": "a78867ec-af0d-412b-bb3c-cd137e3c9915",
      "execution_count": 37,
      "outputs": []
    },
    {
      "cell_type": "code",
      "metadata": {
        "id": "0da0ca3a-e407-40d6-9cf4-c46d168811e9"
      },
      "source": [
        "def set_model_fun():#cfg miad ro model haee ke sakhtim status haso set mikone roye om model ha\n",
        "    model_SIR.set_initial_status(cfg)\n",
        "    model_SI.set_initial_status(cfg)\n",
        "    model_SIS.set_initial_status(cfg)"
      ],
      "id": "0da0ca3a-e407-40d6-9cf4-c46d168811e9",
      "execution_count": 38,
      "outputs": []
    },
    {
      "cell_type": "code",
      "metadata": {
        "id": "1e231fc3-56e1-4074-8cad-dca6c3d69f2f"
      },
      "source": [
        "#agar avali faal bashe dotaye badi diactive \n",
        "#avali : model bedone treshold \n",
        "#dovimi ba threshold"
      ],
      "id": "1e231fc3-56e1-4074-8cad-dca6c3d69f2f",
      "execution_count": 39,
      "outputs": []
    },
    {
      "cell_type": "code",
      "metadata": {
        "id": "451f87a0-84c7-42d5-a20a-afc950ce7e3b"
      },
      "source": [
        "#set_model_fun()"
      ],
      "id": "451f87a0-84c7-42d5-a20a-afc950ce7e3b",
      "execution_count": 40,
      "outputs": []
    },
    {
      "cell_type": "code",
      "metadata": {
        "id": "cf9f0d73-ea25-4afc-bc1d-f37552b89c42"
      },
      "source": [
        "tsh_fun()"
      ],
      "id": "cf9f0d73-ea25-4afc-bc1d-f37552b89c42",
      "execution_count": 41,
      "outputs": []
    },
    {
      "cell_type": "code",
      "metadata": {
        "id": "28b3c21a-518e-408f-a063-dc89ed0985dc"
      },
      "source": [
        "set_model_fun()"
      ],
      "id": "28b3c21a-518e-408f-a063-dc89ed0985dc",
      "execution_count": 42,
      "outputs": []
    },
    {
      "cell_type": "markdown",
      "metadata": {
        "id": "ebafa326-2efc-4f28-bc00-532781840ac3"
      },
      "source": [
        "## 4 - Simulation"
      ],
      "id": "ebafa326-2efc-4f28-bc00-532781840ac3"
    },
    {
      "cell_type": "code",
      "metadata": {
        "colab": {
          "base_uri": "https://localhost:8080/"
        },
        "id": "89fc2a55-a420-47e8-b09d-baee193991bf",
        "outputId": "4e7d23f6-fb2d-4c45-eac6-f5abfad8b245"
      },
      "source": [
        "iterations_SIR=model_SIR.iteration_bunch(200)#on modeli k sakhtim ro miad simulate mokone ba meghdare defult 200 => tedad tekrare on shabih sasi ma 200 tas "
      ],
      "id": "89fc2a55-a420-47e8-b09d-baee193991bf",
      "execution_count": null,
      "outputs": [
        {
          "output_type": "stream",
          "text": [
            " 65%|██████▌   | 130/200 [00:40<00:13,  5.12it/s]"
          ],
          "name": "stderr"
        }
      ]
    },
    {
      "cell_type": "code",
      "metadata": {
        "id": "fafecc42-28b1-4361-b0fa-fe49e9409164"
      },
      "source": [
        "iterations_SI=model_SI.iteration_bunch(200)"
      ],
      "id": "fafecc42-28b1-4361-b0fa-fe49e9409164",
      "execution_count": null,
      "outputs": []
    },
    {
      "cell_type": "code",
      "metadata": {
        "id": "3ea027da-defb-47e8-a1b4-e35f62a5a16c"
      },
      "source": [
        "iterations_SIS=model_SIS.iteration_bunch(200)"
      ],
      "id": "3ea027da-defb-47e8-a1b4-e35f62a5a16c",
      "execution_count": null,
      "outputs": []
    },
    {
      "cell_type": "code",
      "metadata": {
        "tags": [],
        "id": "942591dd-71b9-4319-9654-784ebe50f396"
      },
      "source": [
        "trends_SIR=model_SIR.build_trends(iterations_SIR)#motegayere tekrare on shabih sazimoneh bareye masir ro besazeh "
      ],
      "id": "942591dd-71b9-4319-9654-784ebe50f396",
      "execution_count": null,
      "outputs": []
    },
    {
      "cell_type": "code",
      "metadata": {
        "id": "3f3a2fea-dd50-4a6c-84be-3caedf37fd4b"
      },
      "source": [
        "trends_SI=model_SI.build_trends(iterations_SI)"
      ],
      "id": "3f3a2fea-dd50-4a6c-84be-3caedf37fd4b",
      "execution_count": null,
      "outputs": []
    },
    {
      "cell_type": "code",
      "metadata": {
        "id": "8d9bbc74-5014-48e5-bc38-e8ce761a5074"
      },
      "source": [
        "trends_SIS=model_SIS.build_trends(iterations_SIS)"
      ],
      "id": "8d9bbc74-5014-48e5-bc38-e8ce761a5074",
      "execution_count": null,
      "outputs": []
    },
    {
      "cell_type": "markdown",
      "metadata": {
        "tags": [],
        "id": "505f64bc-3e6d-4650-872e-ba6c8dac9106"
      },
      "source": [
        "## 5 - Visualize the results"
      ],
      "id": "505f64bc-3e6d-4650-872e-ba6c8dac9106"
    },
    {
      "cell_type": "code",
      "metadata": {
        "id": "d49e6c0b-8ccd-4ed7-bf20-dbf41659bdbf"
      },
      "source": [
        "viz_SIR = DiffusionTrend(model_SIR, trends_SIR)"
      ],
      "id": "d49e6c0b-8ccd-4ed7-bf20-dbf41659bdbf",
      "execution_count": null,
      "outputs": []
    },
    {
      "cell_type": "code",
      "metadata": {
        "id": "8ffe9e63-1cc8-4eb5-b842-597497b71f3a"
      },
      "source": [
        "viz_SI = DiffusionTrend(model_SI, trends_SI)"
      ],
      "id": "8ffe9e63-1cc8-4eb5-b842-597497b71f3a",
      "execution_count": null,
      "outputs": []
    },
    {
      "cell_type": "code",
      "metadata": {
        "id": "43fba2f7-520e-44f4-a500-65805cd77f22"
      },
      "source": [
        "viz_SIS = DiffusionTrend(model_SIS, trends_SIS)"
      ],
      "id": "43fba2f7-520e-44f4-a500-65805cd77f22",
      "execution_count": null,
      "outputs": []
    },
    {
      "cell_type": "code",
      "metadata": {
        "id": "a7476e4e-b326-4f4c-b99f-f1104ba4c598"
      },
      "source": [
        "viz_SIR.plot()"
      ],
      "id": "a7476e4e-b326-4f4c-b99f-f1104ba4c598",
      "execution_count": null,
      "outputs": []
    },
    {
      "cell_type": "code",
      "metadata": {
        "tags": [],
        "id": "fdd8f37f-a9c2-4c04-9585-5ca75c8abd0c"
      },
      "source": [
        "viz_SI.plot()"
      ],
      "id": "fdd8f37f-a9c2-4c04-9585-5ca75c8abd0c",
      "execution_count": null,
      "outputs": []
    },
    {
      "cell_type": "code",
      "metadata": {
        "id": "3d474f55-d3ad-4947-a5ba-e8d9a4ba79b0"
      },
      "source": [
        "viz_SIS.plot()"
      ],
      "id": "3d474f55-d3ad-4947-a5ba-e8d9a4ba79b0",
      "execution_count": null,
      "outputs": []
    },
    {
      "cell_type": "markdown",
      "metadata": {
        "id": "5c8187f6-d7f2-4e44-b41b-5282ead1a55b"
      },
      "source": [
        "## Analyze Model"
      ],
      "id": "5c8187f6-d7f2-4e44-b41b-5282ead1a55b"
    },
    {
      "cell_type": "code",
      "metadata": {
        "id": "dc867657-b096-429e-8469-d42f4d50c07e"
      },
      "source": [
        "trends_SIR=multi_runs(model_SIR,execution_number=10,iteration_number=200,nprocesses=4)#10=tedade namone haye analiz , 200= tedad  tekrare har ejra 4=tedad process ha ke inaro roye on 3 ta modele soal emal mikonim "
      ],
      "id": "dc867657-b096-429e-8469-d42f4d50c07e",
      "execution_count": null,
      "outputs": []
    },
    {
      "cell_type": "code",
      "metadata": {
        "id": "fcbba475-74c8-4c99-bbfd-fc1e8b19e973"
      },
      "source": [
        "trends_SI=multi_runs(model_SI,execution_number=10,iteration_number=200,nprocesses=4)"
      ],
      "id": "fcbba475-74c8-4c99-bbfd-fc1e8b19e973",
      "execution_count": null,
      "outputs": []
    },
    {
      "cell_type": "code",
      "metadata": {
        "id": "cbe6fdff-87a5-4021-bb58-5bbe8689b393"
      },
      "source": [
        "trends_SIS=multi_runs(model_SIS,execution_number=10,iteration_number=200,nprocesses=4)"
      ],
      "id": "cbe6fdff-87a5-4021-bb58-5bbe8689b393",
      "execution_count": null,
      "outputs": []
    },
    {
      "cell_type": "code",
      "metadata": {
        "id": "12420928-884f-4b71-9073-9bb22c6cbe8a"
      },
      "source": [
        "viz_SIR=DiffusionTrend(model_SIR,trends_SIR)"
      ],
      "id": "12420928-884f-4b71-9073-9bb22c6cbe8a",
      "execution_count": null,
      "outputs": []
    },
    {
      "cell_type": "code",
      "metadata": {
        "id": "8222220e-e230-4bc7-b901-68cc7f406ba1"
      },
      "source": [
        "viz_SI=DiffusionTrend(model_SI,trends_SI)"
      ],
      "id": "8222220e-e230-4bc7-b901-68cc7f406ba1",
      "execution_count": null,
      "outputs": []
    },
    {
      "cell_type": "code",
      "metadata": {
        "id": "659f779d-1642-43f0-a746-6f37dbddcc9c"
      },
      "source": [
        "viz_SIS=DiffusionTrend(model_SIS,trends_SIS)"
      ],
      "id": "659f779d-1642-43f0-a746-6f37dbddcc9c",
      "execution_count": null,
      "outputs": []
    },
    {
      "cell_type": "code",
      "metadata": {
        "tags": [],
        "id": "d1f12379-da1b-431e-8584-fec358233af4"
      },
      "source": [
        "viz_SIR.plot(percentile=75)#75 haleye dore nemodare "
      ],
      "id": "d1f12379-da1b-431e-8584-fec358233af4",
      "execution_count": null,
      "outputs": []
    },
    {
      "cell_type": "code",
      "metadata": {
        "id": "16bf7038-ab0c-4131-aafa-f46634e204fc"
      },
      "source": [
        "viz_SI.plot(percentile=75)"
      ],
      "id": "16bf7038-ab0c-4131-aafa-f46634e204fc",
      "execution_count": null,
      "outputs": []
    },
    {
      "cell_type": "code",
      "metadata": {
        "id": "08778047-3dd4-40f3-9fa3-f700a0dba797"
      },
      "source": [
        "viz_SIS.plot(percentile=85)"
      ],
      "id": "08778047-3dd4-40f3-9fa3-f700a0dba797",
      "execution_count": null,
      "outputs": []
    },
    {
      "cell_type": "markdown",
      "metadata": {
        "id": "42345d8b-463e-497e-8db0-2ce51f48fd74"
      },
      "source": [
        "## Comparing the Infection trends of different models"
      ],
      "id": "42345d8b-463e-497e-8db0-2ce51f48fd74"
    },
    {
      "cell_type": "code",
      "metadata": {
        "id": "8a35699c-9ca9-468e-a6ca-e300747a9567"
      },
      "source": [
        "viz=DiffusionTrendComparison([model_SIR,model_SI,model_SIS],[trends_SIR,trends_SI,trends_SIS])#"
      ],
      "id": "8a35699c-9ca9-468e-a6ca-e300747a9567",
      "execution_count": null,
      "outputs": []
    },
    {
      "cell_type": "code",
      "metadata": {
        "id": "8d84e12e-faa2-43b3-8548-97d8b7776a72"
      },
      "source": [
        "viz.plot()"
      ],
      "id": "8d84e12e-faa2-43b3-8548-97d8b7776a72",
      "execution_count": null,
      "outputs": []
    },
    {
      "cell_type": "code",
      "metadata": {
        "id": "865af983-cb87-43a6-81b4-3f4a10bddf17"
      },
      "source": [
        ""
      ],
      "id": "865af983-cb87-43a6-81b4-3f4a10bddf17",
      "execution_count": null,
      "outputs": []
    },
    {
      "cell_type": "code",
      "metadata": {
        "id": "ebbc4668-846d-408c-b32e-5ee6475c3015"
      },
      "source": [
        ""
      ],
      "id": "ebbc4668-846d-408c-b32e-5ee6475c3015",
      "execution_count": null,
      "outputs": []
    }
  ]
}